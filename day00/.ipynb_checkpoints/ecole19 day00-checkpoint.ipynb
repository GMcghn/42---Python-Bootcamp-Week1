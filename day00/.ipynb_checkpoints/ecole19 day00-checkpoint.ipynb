{
 "cells": [
  {
   "cell_type": "code",
   "execution_count": 9,
   "metadata": {},
   "outputs": [
    {
     "data": {
      "text/plain": [
       "['hello', 'world']"
      ]
     },
     "execution_count": 9,
     "metadata": {},
     "output_type": "execute_result"
    }
   ],
   "source": [
    "#exo 1\n",
    "s = \"hello world\"\n",
    "splitted = s.split(sep=' ')\n",
    "splitted"
   ]
  },
  {
   "cell_type": "code",
   "execution_count": 10,
   "metadata": {},
   "outputs": [
    {
     "data": {
      "text/plain": [
       "range(0, 2)"
      ]
     },
     "execution_count": 10,
     "metadata": {},
     "output_type": "execute_result"
    }
   ],
   "source": [
    "range(len(splitted))"
   ]
  },
  {
   "cell_type": "code",
   "execution_count": 21,
   "metadata": {},
   "outputs": [
    {
     "name": "stdout",
     "output_type": "stream",
     "text": [
      "range(0, 5)\n"
     ]
    }
   ],
   "source": [
    "\n",
    "splitted[0]\n",
    "splitted[0][-5]\n",
    "print(range(len(splitted[0])))"
   ]
  },
  {
   "cell_type": "code",
   "execution_count": 35,
   "metadata": {},
   "outputs": [
    {
     "name": "stdout",
     "output_type": "stream",
     "text": [
      "olleh\n",
      "dlrow\n",
      "olleh dlrow \n"
     ]
    }
   ],
   "source": [
    "# string immutable, utiliser +=\n",
    "#Note that range(6) is not the values of 0 to 6, but the values 0 to 5.\n",
    "new_sentence =''\n",
    "for x in range(len(splitted)):\n",
    "    new_word =''\n",
    "    for y in range(len(splitted[x])):\n",
    "        new_word += splitted[x][-(y+1)]\n",
    "    print(new_word)\n",
    "    new_sentence += new_word +' '\n",
    "print(new_sentence)"
   ]
  },
  {
   "cell_type": "code",
   "execution_count": 40,
   "metadata": {},
   "outputs": [],
   "source": [
    "def reverse_string(*args):\n",
    "    s=' '\n",
    "    for arg in args:\n",
    "        s += arg +' '\n",
    "    splitted = s.split(sep=' ')\n",
    "    new_sentence =''\n",
    "    for x in range(len(splitted)):\n",
    "        new_word =''\n",
    "        for y in range(len(splitted[x])):\n",
    "            new_word += splitted[x][-(y+1)]\n",
    "    \n",
    "        new_sentence += new_word +' '\n",
    "    return new_sentence"
   ]
  },
  {
   "cell_type": "code",
   "execution_count": 45,
   "metadata": {},
   "outputs": [
    {
     "data": {
      "text/plain": [
       "' olleh dlrow  '"
      ]
     },
     "execution_count": 45,
     "metadata": {},
     "output_type": "execute_result"
    }
   ],
   "source": [
    "a = reverse_string('hello','world')\n",
    "a"
   ]
  },
  {
   "cell_type": "code",
   "execution_count": 48,
   "metadata": {},
   "outputs": [],
   "source": [
    "def reverse_stringb(*args):\n",
    "    s = ' '.join(args)\n",
    "    splitted = s.split(sep=' ')\n",
    "    new_sentence =''\n",
    "    for x in range(len(splitted)):\n",
    "        new_word =''\n",
    "        for y in range(len(splitted[x])):\n",
    "            new_word += splitted[x][-(y+1)]\n",
    "    \n",
    "        new_sentence += new_word +' '\n",
    "    return new_sentence"
   ]
  },
  {
   "cell_type": "code",
   "execution_count": 50,
   "metadata": {},
   "outputs": [
    {
     "data": {
      "text/plain": [
       "'olleh dlrow '"
      ]
     },
     "execution_count": 50,
     "metadata": {},
     "output_type": "execute_result"
    }
   ],
   "source": [
    "a = reverse_stringb('hello','world')\n",
    "a"
   ]
  },
  {
   "cell_type": "code",
   "execution_count": 59,
   "metadata": {},
   "outputs": [
    {
     "name": "stdout",
     "output_type": "stream",
     "text": [
      "['C:\\\\Users\\\\Gabriel\\\\Anaconda3\\\\lib\\\\site-packages\\\\ipykernel_launcher.py', '-f', 'C:\\\\Users\\\\Gabriel\\\\AppData\\\\Roaming\\\\jupyter\\\\runtime\\\\kernel-812bdd68-fcc6-4435-bd46-195f3a2ff5c2.json']\n"
     ]
    }
   ],
   "source": [
    "import sys\n",
    "print (sys.argv)"
   ]
  },
  {
   "cell_type": "code",
   "execution_count": 62,
   "metadata": {},
   "outputs": [
    {
     "name": "stdout",
     "output_type": "stream",
     "text": [
      "This is the name of the script:  C:\\Users\\Gabriel\\Anaconda3\\lib\\site-packages\\ipykernel_launcher.py\n",
      "Number of arguments:  3\n",
      "The arguments are:  ['C:\\\\Users\\\\Gabriel\\\\Anaconda3\\\\lib\\\\site-packages\\\\ipykernel_launcher.py', '-f', 'C:\\\\Users\\\\Gabriel\\\\AppData\\\\Roaming\\\\jupyter\\\\runtime\\\\kernel-812bdd68-fcc6-4435-bd46-195f3a2ff5c2.json']\n"
     ]
    }
   ],
   "source": [
    "import sys\n",
    "print (\"This is the name of the script: \", sys.argv[0])\n",
    "print (\"Number of arguments: \", len(sys.argv))\n",
    "print (\"The arguments are: \" , str(sys.argv))"
   ]
  },
  {
   "cell_type": "code",
   "execution_count": 63,
   "metadata": {},
   "outputs": [],
   "source": [
    "#exo2\n"
   ]
  },
  {
   "cell_type": "code",
   "execution_count": 1,
   "metadata": {},
   "outputs": [
    {
     "name": "stdout",
     "output_type": "stream",
     "text": [
      "0\n",
      "0\n"
     ]
    }
   ],
   "source": [
    "#exo3\n",
    "a, b =0, 0\n",
    "print(a)\n",
    "print(b)"
   ]
  },
  {
   "cell_type": "code",
   "execution_count": 58,
   "metadata": {},
   "outputs": [
    {
     "name": "stdout",
     "output_type": "stream",
     "text": [
      "The text contains 12 characters.\n",
      "\n",
      "- 2 upper letters\n",
      "\n",
      "- 7 lower letters\n",
      "\n",
      "- 1 punctuation marks\n",
      "\n",
      "- 2 spaces\n"
     ]
    }
   ],
   "source": [
    "#string.punctuation : !\"#$%&'()*+, -./:;<=>?@[\\]^_`{|}~\n",
    "#replace string by sys.argv[1]\n",
    "def text_analyzer(s):\n",
    "    import string\n",
    "    count_upper = 0\n",
    "    count_lower = 0\n",
    "    count_space = 0\n",
    "    count_punctuation = 0\n",
    "    count_total = 0\n",
    "\n",
    "    for i in range(len(s)):\n",
    "        count_total+=1\n",
    "        if s[i].isupper() == True:\n",
    "            count_upper +=1\n",
    "        if s[i].islower() == True:\n",
    "            count_lower +=1\n",
    "        if s[i].isspace() == True:\n",
    "            count_space +=1\n",
    "        #il faut rajouter les parenthèses sinon ça marche pas\n",
    "        if (s[i] in string.punctuation) == True:\n",
    "            count_punctuation +=1\n",
    "    print(\n",
    "            (\"The text contains \"+str(count_total)+\" characters.\"),  \\\n",
    "            (\"- \"+str(count_upper)+\" upper letters\") , (\"- \"+str(count_lower)+\" lower letters\"), \\\n",
    "        (\"- \"+str(count_punctuation)+\" punctuation marks\") , (\"- \"+str(count_space)+\" spaces\") , sep='\\n'*2)\n",
    "\n",
    "text_analyzer(\"Coucou Toi !\")"
   ]
  },
  {
   "cell_type": "code",
   "execution_count": 56,
   "metadata": {},
   "outputs": [
    {
     "name": "stdout",
     "output_type": "stream",
     "text": [
      "The text contains 11 characters.\n",
      "\n",
      "- 2 upper letters\n",
      "\n",
      "- 7 lower letters\n",
      "\n",
      "- 1 punctuation marks\n",
      "\n",
      "- 1 spaces\n"
     ]
    }
   ],
   "source": [
    "import string\n",
    "s = \"Coucou Toi!\"\n",
    "count_upper = 0\n",
    "count_lower = 0\n",
    "count_space = 0\n",
    "count_punctuation = 0\n",
    "count_total = 0\n",
    "\n",
    "for i in range(len(s)):\n",
    "    count_total+=1\n",
    "    if s[i].isupper() == True:\n",
    "        count_upper +=1\n",
    "    if s[i].islower() == True:\n",
    "        count_lower +=1\n",
    "    if s[i].isspace() == True:\n",
    "        count_space +=1\n",
    "    #il faut rajouter les parenthèses sinon ça marche pas\n",
    "    if (s[i] in string.punctuation) == True:\n",
    "        count_punctuation +=1\n",
    "\n",
    "\n",
    "print(\n",
    "        (\"The text contains \"+str(count_total)+\" characters.\"),  \\\n",
    "        (\"- \"+str(count_upper)+\" upper letters\") , (\"- \"+str(count_lower)+\" lower letters\"), \\\n",
    "    (\"- \"+str(count_punctuation)+\" punctuation marks\") , (\"- \"+str(count_space)+\" spaces\") , sep='\\n'*2)"
   ]
  },
  {
   "cell_type": "code",
   "execution_count": 57,
   "metadata": {},
   "outputs": [
    {
     "data": {
      "text/plain": [
       "True"
      ]
     },
     "execution_count": 57,
     "metadata": {},
     "output_type": "execute_result"
    }
   ],
   "source": [
    "import string\n",
    "\"!\" in string.punctuation\n"
   ]
  },
  {
   "cell_type": "code",
   "execution_count": 118,
   "metadata": {},
   "outputs": [
    {
     "name": "stdout",
     "output_type": "stream",
     "text": [
      "Sum:\t\t15\n",
      "Difference: \t-5\n",
      "Product: \t50\n",
      "Quotient: \t0.5\n",
      "Remainder: \t5\n"
     ]
    }
   ],
   "source": [
    "#exo 4\n",
    "# sys.exit(1)\n",
    "#      is not a crashing error, it's a perfectly normal way to exit a program. The exit code of 1 is a convention \n",
    "#      that means something went wrong (you would return 0 in the case of a successful run).\n",
    "\n",
    "import sys\n",
    "\n",
    "def multiple_operations(a,b):\n",
    "    \"\"\"Apply mathematical operations sum, soustraction, product, division and modulo to two integers and print the results.\"\"\"\n",
    "    try:\n",
    "            \n",
    "        c = int(a)\n",
    "        d = int(b)\n",
    "        \n",
    "    except ValueError:       \n",
    "        print(\"InputError: only numbers\" +\"\\n\" + \"Usage: python operations.py <number1> <number2>\"  \\\n",
    "              + \"\\n\" + \"Example:\" + \"\\n\" +\"\\t\" + \"python operations.py 10 3\")\n",
    "        sys.exit(1)\n",
    "        \n",
    "    if d == 0:\n",
    "        print(\"Sum:\"+ \"\\t\"*2+ str(c+d) +\"\\n\"+\n",
    "              \"Difference: \"+\"\\t\"+str(c-d) +\"\\n\"+\n",
    "              \"Product: \"+\"\\t\"+str(c*d) +\"\\n\"+\n",
    "              \"Quotient: \"+\"\\t\"+ \"ERROR (div by zero)\" +\"\\n\"+\n",
    "              \"Remainder: \" + \"\\t\"+\"ERROR (modulo by zero)\"\n",
    "             )\n",
    "    else:\n",
    "\n",
    "        print(\"Sum:\"+ \"\\t\"*2+ str(c+d) +\"\\n\"+\n",
    "              \"Difference: \"+\"\\t\"+str(c-d) +\"\\n\"+\n",
    "              \"Product: \"+\"\\t\"+str(c*d) +\"\\n\"+\n",
    "              \"Quotient: \"+\"\\t\"+str(c/d) +\"\\n\"+\n",
    "              \"Remainder: \" + \"\\t\"+str(c%d)\n",
    "             )\n",
    "\n",
    "            \n",
    "multiple_operations(5,10.6)"
   ]
  },
  {
   "cell_type": "code",
   "execution_count": 130,
   "metadata": {},
   "outputs": [
    {
     "name": "stdout",
     "output_type": "stream",
     "text": [
      "Pythonwas created by Guido van Rossum\n",
      "Rubywas created by Yukihiro Matsumoto\n",
      "PHPwas created by Rasmus Lerdorf\n"
     ]
    }
   ],
   "source": [
    "#exo 5\n",
    "languages = {\n",
    "'Python': 'Guido van Rossum',\n",
    "'Ruby': 'Yukihiro Matsumoto',\n",
    "'PHP': 'Rasmus Lerdorf',\n",
    "}\n",
    "\n",
    "for key, value in languages.items():\n",
    "    print(key + \"was created by \" +value)"
   ]
  },
  {
   "cell_type": "code",
   "execution_count": 165,
   "metadata": {},
   "outputs": [
    {
     "name": "stdout",
     "output_type": "stream",
     "text": [
      "(3, 30, 2019, 9, 25)\n",
      "2019-09-25 03:30:00\n"
     ]
    }
   ],
   "source": [
    "from datetime import datetime\n",
    "t = (3,30,2019,9,25)\n",
    "s = ''.join(str(t))\n",
    "print(s)\n",
    "format=\"(%H, %M, %Y, %m, %d)\"\n",
    "date = datetime.strptime(s,format)\n",
    "print(date)"
   ]
  },
  {
   "cell_type": "code",
   "execution_count": 202,
   "metadata": {},
   "outputs": [
    {
     "name": "stdout",
     "output_type": "stream",
     "text": [
      "<class 'str'>\n",
      "day_00, ex04, 132.42, 1.00e+04, 1.23e+04\n"
     ]
    }
   ],
   "source": [
    "from decimal import Decimal\n",
    "t = ( 0, 4, 132.42222, 10000, 12345.67)\n",
    "a= '%.2E' % Decimal(str(t[3]))\n",
    "print(type(a))\n",
    "\n",
    "print( \"day_0\" + str(t[0]) + \", ex0\" + str(t[1]) + \", \" + str(round(t[2],2)) +\", \" + ('%.2e' % Decimal(str(t[3]))) + \", \" +('%.2e' % Decimal(str(t[4]))))"
   ]
  },
  {
   "cell_type": "code",
   "execution_count": 1,
   "metadata": {},
   "outputs": [
    {
     "data": {
      "text/plain": [
       "11000.0"
      ]
     },
     "execution_count": 1,
     "metadata": {},
     "output_type": "execute_result"
    }
   ],
   "source": [
    "1.1e4"
   ]
  },
  {
   "cell_type": "code",
   "execution_count": 62,
   "metadata": {},
   "outputs": [
    {
     "name": "stdout",
     "output_type": "stream",
     "text": [
      "{'ingredients': ['ham', 'bread', 'cheese', 'tomatoes'], 'meal': 'lunch', 'prep_time': 10}\n",
      "{'ingredients': ['flour', 'sugar', 'eggs'], 'meal': 'dessert', 'prep_time': 60}\n",
      "{'ingredients': ['avocado', 'arugula', 'tomatoes', 'spinach'], 'meal': 'lunch', 'prep_time': 15}\n"
     ]
    }
   ],
   "source": [
    "#exo 6\n",
    "cookbook ={'sandwich': {'ingredients': ['ham', 'bread', 'cheese', 'tomatoes'],'meal': 'lunch','prep_time': 10}, \n",
    "           'cake': {'ingredients': ['flour', 'sugar', 'eggs'],'meal': 'dessert','prep_time': 60} , \n",
    "           'salad': {'ingredients': ['avocado', 'arugula', 'tomatoes', 'spinach'],'meal': 'lunch','prep_time': 15}}\n",
    "for value in cookbook.values():\n",
    "    print(value)"
   ]
  },
  {
   "cell_type": "code",
   "execution_count": 63,
   "metadata": {},
   "outputs": [
    {
     "name": "stdout",
     "output_type": "stream",
     "text": [
      "{'ingredients': ['flour', 'sugar', 'eggs'], 'meal': 'dessert', 'prep_time': 60}\n"
     ]
    }
   ],
   "source": [
    "def print_recipe(name):\n",
    "    cookbook ={'sandwich': {'ingredients': ['ham', 'bread', 'cheese', 'tomatoes'],'meal': 'lunch','prep_time': 10}, \n",
    "           'cake': {'ingredients': ['flour', 'sugar', 'eggs'],'meal': 'dessert','prep_time': 60} , \n",
    "           'salad': {'ingredients': ['avocado', 'arugula', 'tomatoes', 'spinach'],'meal': 'lunch','prep_time': 15}}\n",
    "    \n",
    "    for key,value in cookbook.items():\n",
    "     \n",
    "        if key == name:\n",
    "            print(value)\n",
    "#             break\n",
    "            \n",
    "print_recipe('cake')"
   ]
  },
  {
   "cell_type": "code",
   "execution_count": 72,
   "metadata": {},
   "outputs": [
    {
     "name": "stdout",
     "output_type": "stream",
     "text": [
      "{'sandwich': {'ingredients': ['ham', 'bread', 'cheese', 'tomatoes'], 'meal': 'lunch', 'prep_time': 10}, 'cake': {'ingredients': ['flour', 'sugar', 'eggs'], 'meal': 'dessert', 'prep_time': 60}, 'salad': {'ingredients': ['avocado', 'arugula', 'tomatoes', 'spinach'], 'meal': 'lunch', 'prep_time': 15}}\n",
      "\n",
      "{'sandwich': {'ingredients': ['ham', 'bread', 'cheese', 'tomatoes'], 'meal': 'lunch', 'prep_time': 10}, 'salad': {'ingredients': ['avocado', 'arugula', 'tomatoes', 'spinach'], 'meal': 'lunch', 'prep_time': 15}}\n"
     ]
    }
   ],
   "source": [
    "def delete_recipe(name):\n",
    "    cookbook ={'sandwich': {'ingredients': ['ham', 'bread', 'cheese', 'tomatoes'],'meal': 'lunch','prep_time': 10}, \n",
    "           'cake': {'ingredients': ['flour', 'sugar', 'eggs'],'meal': 'dessert','prep_time': 60} , \n",
    "           'salad': {'ingredients': ['avocado', 'arugula', 'tomatoes', 'spinach'],'meal': 'lunch','prep_time': 15}}\n",
    "    print(cookbook)\n",
    "    for key,value in cookbook.items():\n",
    "        if key == name:\n",
    "            del cookbook[key]\n",
    "            #break so the dictionary doesnt change size during iteration, which is not allowed\n",
    "            break\n",
    "    print()\n",
    "    print(cookbook)\n",
    "\n",
    "delete_recipe('cake')\n",
    "        "
   ]
  },
  {
   "cell_type": "code",
   "execution_count": 86,
   "metadata": {},
   "outputs": [
    {
     "name": "stdout",
     "output_type": "stream",
     "text": [
      "{'sandwich': {'ingredients': ['ham', 'bread', 'cheese', 'tomatoes'], 'meal': 'lunch', 'prep_time': 10}, 'cake': {'ingredients': ['flour', 'sugar', 'eggs'], 'meal': 'dessert', 'prep_time': 60}, 'salad': {'ingredients': ['avocado', 'arugula', 'tomatoes', 'spinach'], 'meal': 'lunch', 'prep_time': 15}, 'crepes': {'ingredients': ['lait', 'farine', 'oeufs'], 'meal': 'dessert', 'prep_time': 45}}\n"
     ]
    }
   ],
   "source": [
    "def add_recipe(name, ingredients, meal, prep_time):\n",
    "    \n",
    "    cookbook.update({name: {'ingredients': ingredients,'meal': meal, 'prep_time': prep_time}})\n",
    "\n",
    "cookbook ={'sandwich': {'ingredients': ['ham', 'bread', 'cheese', 'tomatoes'],'meal': 'lunch','prep_time': 10}, \n",
    "           'cake': {'ingredients': ['flour', 'sugar', 'eggs'],'meal': 'dessert','prep_time': 60} , \n",
    "           'salad': {'ingredients': ['avocado', 'arugula', 'tomatoes', 'spinach'],'meal': 'lunch','prep_time': 15}}\n",
    "\n",
    "add_recipe('crepes',['lait', 'farine', 'oeufs'], 'dessert', 45)\n",
    "print(cookbook)\n",
    "\n",
    "\n",
    "    \n",
    "    "
   ]
  },
  {
   "cell_type": "code",
   "execution_count": 88,
   "metadata": {},
   "outputs": [
    {
     "name": "stdout",
     "output_type": "stream",
     "text": [
      "sandwich\n",
      "cake\n",
      "salad\n"
     ]
    }
   ],
   "source": [
    "def print_cookbook(name):\n",
    "    for key, value in name.items():\n",
    "        print(key)\n",
    "\n",
    "cookbook ={'sandwich': {'ingredients': ['ham', 'bread', 'cheese', 'tomatoes'],'meal': 'lunch','prep_time': 10}, \n",
    "           'cake': {'ingredients': ['flour', 'sugar', 'eggs'],'meal': 'dessert','prep_time': 60} , \n",
    "           'salad': {'ingredients': ['avocado', 'arugula', 'tomatoes', 'spinach'],'meal': 'lunch','prep_time': 15}}\n",
    "\n",
    "print_cookbook(cookbook)"
   ]
  },
  {
   "cell_type": "code",
   "execution_count": 152,
   "metadata": {},
   "outputs": [
    {
     "name": "stdout",
     "output_type": "stream",
     "text": [
      "bonjour appelle Gabeuiklfdshlfd\n"
     ]
    }
   ],
   "source": [
    "#exo7\n",
    "#Forbidden functions : filter\n",
    "#Python str: inplace=False (Python strings are immutable)\n",
    "def remove_words(str, n):\n",
    "    str2=''\n",
    "    for i in str:\n",
    "        if i not in string.punctuation: \n",
    "            str2 += i\n",
    "        else:\n",
    "            str2 += ' '\n",
    "\n",
    "    splitted= str2.split()\n",
    "    \n",
    "    #careful to the order - if else before for\n",
    "    #en fait pas mettre sinon il garde les '' comme élément de la liste:\n",
    "    # new_str = [word if len(word) > n else '' for word in splitted]\n",
    "    new_str = [word for word in splitted if len(word) > n]\n",
    "    \n",
    "    #list.remove seulement le premier élément. filter adapté ici mais interdit par l'excercice\n",
    "    return ' '.join(new_str)\n",
    "\n",
    "x = \"bonjour je m'appelle Gabeuiklfdshlfd!\"\n",
    "a = remove_words(x,4)\n",
    "print(a)"
   ]
  },
  {
   "cell_type": "code",
   "execution_count": 1,
   "metadata": {},
   "outputs": [
    {
     "ename": "NameError",
     "evalue": "name 'string' is not defined",
     "output_type": "error",
     "traceback": [
      "\u001b[1;31m---------------------------------------------------------------------------\u001b[0m",
      "\u001b[1;31mNameError\u001b[0m                                 Traceback (most recent call last)",
      "\u001b[1;32m<ipython-input-1-d7c63a196bfb>\u001b[0m in \u001b[0;36m<module>\u001b[1;34m\u001b[0m\n\u001b[0;32m      5\u001b[0m \u001b[0mstr2\u001b[0m\u001b[1;33m=\u001b[0m\u001b[1;34m''\u001b[0m\u001b[1;33m\u001b[0m\u001b[1;33m\u001b[0m\u001b[0m\n\u001b[0;32m      6\u001b[0m \u001b[1;32mfor\u001b[0m \u001b[0mi\u001b[0m \u001b[1;32min\u001b[0m \u001b[0mstr\u001b[0m\u001b[1;33m:\u001b[0m\u001b[1;33m\u001b[0m\u001b[1;33m\u001b[0m\u001b[0m\n\u001b[1;32m----> 7\u001b[1;33m     \u001b[1;32mif\u001b[0m \u001b[0mi\u001b[0m \u001b[1;32mnot\u001b[0m \u001b[1;32min\u001b[0m \u001b[0mstring\u001b[0m\u001b[1;33m.\u001b[0m\u001b[0mpunctuation\u001b[0m\u001b[1;33m:\u001b[0m\u001b[1;33m\u001b[0m\u001b[1;33m\u001b[0m\u001b[0m\n\u001b[0m\u001b[0;32m      8\u001b[0m         \u001b[0mstr2\u001b[0m \u001b[1;33m+=\u001b[0m \u001b[0mi\u001b[0m\u001b[1;33m\u001b[0m\u001b[1;33m\u001b[0m\u001b[0m\n\u001b[0;32m      9\u001b[0m     \u001b[1;32melse\u001b[0m\u001b[1;33m:\u001b[0m\u001b[1;33m\u001b[0m\u001b[1;33m\u001b[0m\u001b[0m\n",
      "\u001b[1;31mNameError\u001b[0m: name 'string' is not defined"
     ]
    }
   ],
   "source": [
    "\n",
    "n = 4\n",
    "# str = \"bonjour je m'appelle Gabeuiklfdshlfd !\"\n",
    "str = \"bonjour je m'appelle Gabeuiklfdshlfd\"\n",
    "\n",
    "str2=''\n",
    "for i in str:\n",
    "    if i not in string.punctuation: \n",
    "        str2 += i\n",
    "    else:\n",
    "        str2 += ' '\n",
    "\n",
    "print(str2)\n",
    "print()\n",
    "splitted= str2.split()\n",
    "\n",
    "print(splitted)\n",
    "print()\n",
    "#careful to the order - if else before for\n",
    "#en fait pas mettre\n",
    "# new_str = [word if len(word) > n else '' for word in splitted]\n",
    "new_str = [word for word in splitted if len(word) > n]\n",
    "\n",
    "print(new_str)\n",
    "#list.remove seulement le premier élément. filter adapté ici mais interdit par l'excercice\n",
    "\n",
    "print(new_str)\n",
    "print(' '.join(new_str))\n",
    "# bonjour  mappelle Gabeuiklfdshlfd"
   ]
  },
  {
   "cell_type": "code",
   "execution_count": 5,
   "metadata": {},
   "outputs": [
    {
     "name": "stdout",
     "output_type": "stream",
     "text": [
      "1\n"
     ]
    }
   ],
   "source": [
    "dict = {'a' : 1 , 'b' : 2 , 'c' : 3}\n",
    "\n",
    "print(dict['a'])\n"
   ]
  }
 ],
 "metadata": {
  "kernelspec": {
   "display_name": "Python 3",
   "language": "python",
   "name": "python3"
  },
  "language_info": {
   "codemirror_mode": {
    "name": "ipython",
    "version": 3
   },
   "file_extension": ".py",
   "mimetype": "text/x-python",
   "name": "python",
   "nbconvert_exporter": "python",
   "pygments_lexer": "ipython3",
   "version": "3.7.4"
  }
 },
 "nbformat": 4,
 "nbformat_minor": 2
}
