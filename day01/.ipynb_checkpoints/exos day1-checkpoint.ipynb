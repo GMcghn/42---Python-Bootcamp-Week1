{
 "cells": [
  {
   "cell_type": "code",
   "execution_count": 5,
   "metadata": {},
   "outputs": [
    {
     "name": "stdout",
     "output_type": "stream",
     "text": [
      "Recipe name: 2\n",
      "Cooking level: \n"
     ]
    }
   ],
   "source": [
    "#exo 00 \n",
    "a=2\n",
    "t = (\"Recipe name: \", str(a), \"\\n\", \"Cooking level: \")\n",
    "txt = ''.join(t)\n",
    "print(txt)"
   ]
  },
  {
   "cell_type": "code",
   "execution_count": 1,
   "metadata": {},
   "outputs": [
    {
     "name": "stdout",
     "output_type": "stream",
     "text": [
      "Error: only strings as ingredients\n"
     ]
    }
   ],
   "source": [
    "ingredient = 9\n",
    "if str(ingredient).isdigit() == True:\n",
    "                print(\"Error: only strings as ingredients\")"
   ]
  },
  {
   "cell_type": "code",
   "execution_count": 3,
   "metadata": {},
   "outputs": [
    {
     "name": "stdout",
     "output_type": "stream",
     "text": [
      "[1, 2]\n"
     ]
    }
   ],
   "source": [
    "dict = {'a': [1,2] , 'b': 45, 'c': 12}\n",
    "\n",
    "\n",
    "print(dict['a'])"
   ]
  },
  {
   "cell_type": "code",
   "execution_count": 1,
   "metadata": {},
   "outputs": [
    {
     "name": "stdout",
     "output_type": "stream",
     "text": [
      "3\n",
      "3\n"
     ]
    }
   ],
   "source": [
    "#exo 01\n",
    "a = 2\n",
    "\n",
    "def more(x):\n",
    "    x += 1\n",
    "    print(x)\n",
    "    return x \n",
    "    \n",
    "\n",
    "print(more(a))\n",
    "\n",
    "    "
   ]
  },
  {
   "cell_type": "code",
   "execution_count": 6,
   "metadata": {},
   "outputs": [
    {
     "name": "stdout",
     "output_type": "stream",
     "text": [
      "42\n"
     ]
    }
   ],
   "source": [
    "#exo 02\n",
    "a = 42\n",
    "if str(a).isdigit() == True and a ==42:\n",
    "    print(a)"
   ]
  },
  {
   "cell_type": "code",
   "execution_count": 11,
   "metadata": {},
   "outputs": [
    {
     "name": "stdout",
     "output_type": "stream",
     "text": [
      "[0, 1, 2, 3, 4, 5, 6, 7, 8]\n"
     ]
    }
   ],
   "source": [
    "a = 9\n",
    "b = [x for x in range(a)]\n",
    "print(b)"
   ]
  },
  {
   "cell_type": "code",
   "execution_count": 15,
   "metadata": {},
   "outputs": [
    {
     "name": "stdout",
     "output_type": "stream",
     "text": [
      "15\n"
     ]
    }
   ],
   "source": [
    "t = (10,15)\n",
    "print(t[1])"
   ]
  },
  {
   "cell_type": "code",
   "execution_count": 17,
   "metadata": {},
   "outputs": [
    {
     "ename": "TypeError",
     "evalue": "object of type 'int' has no len()",
     "output_type": "error",
     "traceback": [
      "\u001b[1;31m---------------------------------------------------------------------------\u001b[0m",
      "\u001b[1;31mTypeError\u001b[0m                                 Traceback (most recent call last)",
      "\u001b[1;32m<ipython-input-17-863a8aea0c48>\u001b[0m in \u001b[0;36m<module>\u001b[1;34m\u001b[0m\n\u001b[0;32m      1\u001b[0m \u001b[0ma\u001b[0m \u001b[1;33m=\u001b[0m \u001b[1;36m4\u001b[0m\u001b[1;33m\u001b[0m\u001b[1;33m\u001b[0m\u001b[0m\n\u001b[1;32m----> 2\u001b[1;33m \u001b[0mlen\u001b[0m\u001b[1;33m(\u001b[0m\u001b[0ma\u001b[0m\u001b[1;33m)\u001b[0m\u001b[1;33m\u001b[0m\u001b[1;33m\u001b[0m\u001b[0m\n\u001b[0m",
      "\u001b[1;31mTypeError\u001b[0m: object of type 'int' has no len()"
     ]
    }
   ],
   "source": [
    "a = 4\n",
    "len(a)"
   ]
  },
  {
   "cell_type": "code",
   "execution_count": 34,
   "metadata": {},
   "outputs": [
    {
     "name": "stdout",
     "output_type": "stream",
     "text": [
      "[4, 5, 6]\n"
     ]
    }
   ],
   "source": [
    "import numpy as np\n",
    "a = [1,2,3]\n",
    "b =[10,20,30]\n",
    "aa = np.array(a)\n",
    "bb = np.array(b)\n",
    "c= 3\n",
    "# c = aa + bb\n",
    "# print(c)\n",
    "# print(list(c))\n",
    "\n",
    "# c = map(lambda x,y : x+y,a,b)\n",
    "# print(list(c))\n",
    "\n",
    "# d = zip(a,b)\n",
    "# print(list(d))\n",
    "\n",
    "sum = [x + c for x in a]\n",
    "print(sum)"
   ]
  },
  {
   "cell_type": "code",
   "execution_count": 68,
   "metadata": {},
   "outputs": [
    {
     "name": "stdout",
     "output_type": "stream",
     "text": [
      "['Le', 'Lorem', 'Ipsum', 'est', 'simplement', 'du', 'faux', 'texte.']\n",
      "['est', 'Ipsum', 'Le', 'faux', 'Lorem', 'texte.', 'du', 'simplement']\n"
     ]
    }
   ],
   "source": [
    "import random\n",
    "text = \"\"\n",
    "splitted = text.split(sep=' ')\n",
    "print(splitted)\n",
    "\n",
    "\n",
    "# splitted.sort()\n",
    "# print(splitted)\n",
    "\n",
    "splitted = list(set(splitted))\n",
    "print(splitted)\n",
    "\n",
    "# random.shuffle(splitted)\n",
    "# print(splitted)\n",
    "\n",
    "# for x in splitted:\n",
    "#         print(x)\n",
    "        \n",
    "    "
   ]
  },
  {
   "cell_type": "code",
   "execution_count": 1,
   "metadata": {},
   "outputs": [
    {
     "ename": "SyntaxError",
     "evalue": "invalid syntax (<ipython-input-1-0b31b3d158fc>, line 9)",
     "output_type": "error",
     "traceback": [
      "\u001b[1;36m  File \u001b[1;32m\"<ipython-input-1-0b31b3d158fc>\"\u001b[1;36m, line \u001b[1;32m9\u001b[0m\n\u001b[1;33m    if option = 'shuffle':\u001b[0m\n\u001b[1;37m              ^\u001b[0m\n\u001b[1;31mSyntaxError\u001b[0m\u001b[1;31m:\u001b[0m invalid syntax\n"
     ]
    }
   ],
   "source": [
    "def generator(text, sep=' ', option = None):\n",
    "    \"\"\"Splits a text with optional options\"\"\"\n",
    "    import random\n",
    "    import sys\n",
    "    \n",
    "    if type(text) == str and option in ['None', 'shuffle', 'unique', 'ordered']:\n",
    "            \n",
    "        splitted = text.split(sep=sep)\n",
    "        if option = 'shuffle':\n",
    "            random.shuffle(splitted)\n",
    "        if option = 'unique':\n",
    "            list_unique = list(set(splitted))\n",
    "        if option = 'ordered':\n",
    "            splitted.sort()\n",
    "\n",
    "        for x in splitted:\n",
    "            print(x)\n",
    "            \n",
    "    else:\n",
    "        print('ERROR. Either text argument not a string or option argument not valid')"
   ]
  },
  {
   "cell_type": "code",
   "execution_count": 1,
   "metadata": {},
   "outputs": [
    {
     "name": "stdout",
     "output_type": "stream",
     "text": [
      "[(0, 1), (1, 2), (2, 3)]\n",
      "[(0, 10), (1, 20), (2, 30)]\n",
      "2\n",
      "<class 'int'>\n",
      "140\n"
     ]
    }
   ],
   "source": [
    "#exo 04\n",
    "X = [1, 2 ,3]\n",
    "Y = [10, 20 ,30]\n",
    "x = list(enumerate(X))\n",
    "y = list(enumerate(Y))\n",
    "print(x)\n",
    "print(y)\n",
    "\n",
    "print(x[2][0])\n",
    "print(type(x[2][0]))\n",
    "\n",
    "aggreg = 0\n",
    "for i in range(len(x)):\n",
    "        aggreg += (x[i][1]*y[i][1])\n",
    "        \n",
    "print(aggreg)\n",
    "    \n",
    "        \n",
    "        "
   ]
  },
  {
   "cell_type": "code",
   "execution_count": 17,
   "metadata": {},
   "outputs": [
    {
     "name": "stdout",
     "output_type": "stream",
     "text": [
      "ERROR: origin attribute starts with a 'b'\n",
      "False\n"
     ]
    }
   ],
   "source": [
    "\n",
    "#exo 05\n",
    "origin = {'id': 2, 'bame': 'claire', 'value': 2000}\n",
    "for x in origin.keys():\n",
    "            \n",
    "            if x[0] == 'b':\n",
    "                print(\"ERROR: origin attribute starts with a 'b'\")\n",
    "                print(\"False\")"
   ]
  },
  {
   "cell_type": "code",
   "execution_count": 24,
   "metadata": {},
   "outputs": [
    {
     "ename": "SyntaxError",
     "evalue": "invalid syntax (<ipython-input-24-eee4ad414172>, line 3)",
     "output_type": "error",
     "traceback": [
      "\u001b[1;36m  File \u001b[1;32m\"<ipython-input-24-eee4ad414172>\"\u001b[1;36m, line \u001b[1;32m3\u001b[0m\n\u001b[1;33m    if str(x[0:3])=='zip' or if str(x[0:4])=='addr':\u001b[0m\n\u001b[1;37m                              ^\u001b[0m\n\u001b[1;31mSyntaxError\u001b[0m\u001b[1;31m:\u001b[0m invalid syntax\n"
     ]
    }
   ],
   "source": [
    "origin = {'id': 2, 'name': 'claire', 'value': 2000}\n",
    "\n",
    "for x in origin.keys():\n",
    "    if str(x[0:3])=='zip' or if str(x[0:4])=='addr':\n",
    "        print(\"ERROR\")"
   ]
  }
 ],
 "metadata": {
  "kernelspec": {
   "display_name": "Python 3",
   "language": "python",
   "name": "python3"
  },
  "language_info": {
   "codemirror_mode": {
    "name": "ipython",
    "version": 3
   },
   "file_extension": ".py",
   "mimetype": "text/x-python",
   "name": "python",
   "nbconvert_exporter": "python",
   "pygments_lexer": "ipython3",
   "version": "3.7.4"
  }
 },
 "nbformat": 4,
 "nbformat_minor": 2
}
