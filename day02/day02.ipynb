{
 "cells": [
  {
   "cell_type": "code",
   "execution_count": 8,
   "metadata": {},
   "outputs": [
    {
     "data": {
      "text/plain": [
       "7"
      ]
     },
     "execution_count": 8,
     "metadata": {},
     "output_type": "execute_result"
    }
   ],
   "source": [
    "def summ(a, b) -> 'expression':\n",
    "    return a+b\n",
    "\n",
    "summ(3,4)\n",
    "\n",
    "\n",
    "    "
   ]
  },
  {
   "cell_type": "code",
   "execution_count": 14,
   "metadata": {},
   "outputs": [
    {
     "name": "stdout",
     "output_type": "stream",
     "text": [
      "6\n",
      "7\n"
     ]
    }
   ],
   "source": [
    "def added(*args):\n",
    "    summ = 0\n",
    "    for arg in args:\n",
    "        summ += arg\n",
    "    return summ\n",
    "\n",
    "print(added(1,2,3))\n",
    "\n",
    "list1=[1,2,3]\n",
    "list2=[10,20,30]\n",
    "m = added(3, 4)\n",
    "print(m)"
   ]
  },
  {
   "cell_type": "code",
   "execution_count": 37,
   "metadata": {},
   "outputs": [
    {
     "name": "stdout",
     "output_type": "stream",
     "text": [
      "[[1, 2, 3], [10, 20, 30], [100, 200, 300]]\n",
      "(1, 10, 100)\n",
      "(2, 20, 200)\n",
      "(3, 30, 300)\n",
      "([1, 2, 3],)\n",
      "([10, 20, 30],)\n",
      "([100, 200, 300],)\n"
     ]
    }
   ],
   "source": [
    "list1=[1,2,3]\n",
    "list2=[10,20,30]\n",
    "list3=[100,200,300]\n",
    "\n",
    "list_list = [list1, list2, list3]\n",
    "print(list_list)\n",
    "a = zip(*list_list)\n",
    "b = zip(list_list)\n",
    "\n",
    "for i in a:\n",
    "    print(i)\n",
    "    \n",
    "for i in b:\n",
    "    print(i)\n",
    "\n",
    "\n",
    "    \n"
   ]
  },
  {
   "cell_type": "code",
   "execution_count": 1,
   "metadata": {},
   "outputs": [
    {
     "name": "stdout",
     "output_type": "stream",
     "text": [
      "('a', 10)\n"
     ]
    }
   ],
   "source": [
    "# listt = [12, \"Yes\", [0, 0, 0], a=10, hello=\"world\"]\n",
    "\n",
    "def what_are_the_vars(*args, **kwargs):\n",
    "    for key, value in kwargs.items():\n",
    "        return(key, value)\n",
    "\n",
    "# print(what_are_the_vars(12, \"Yes\", [0, 0, 0], a=10, hello=\"world\"))\n",
    "print(what_are_the_vars(12, \"Yes\", [0, 0, 0], a=10, hello=\"world\"))\n",
    "\n",
    "#     i = 0\n",
    "#     for arg in args:\n",
    "#         t = (\"var\", str(i))\n",
    "#         a = \"\".join(t)\n",
    "#         setattr(obj, a, arg)\n",
    "#         i += 1\n",
    "\n",
    "# for x in dir(obj):\n",
    "#             if '__' in str(x):\n",
    "#                 delattr(obj,x)\n",
    "\n",
    "# setattr(obj, '_', '')"
   ]
  },
  {
   "cell_type": "code",
   "execution_count": 4,
   "metadata": {},
   "outputs": [
    {
     "name": "stdout",
     "output_type": "stream",
     "text": [
      "testt\n",
      "'test'  0.00 ms\n"
     ]
    }
   ],
   "source": [
    "def log(func):\n",
    "        \n",
    "        \n",
    "        def wrapped(*args, **kwargs):\n",
    "            import time\n",
    "            ts = time.time()\n",
    "            result = func(*args, **kwargs)\n",
    "            te = time.time()\n",
    "\n",
    "            print('%r  %2.2f ms' % \\\n",
    "                    (func.__name__, (te - ts) * 1000))\n",
    "            \n",
    "            return result\n",
    "        return wrapped\n",
    "\n",
    "@log\n",
    "def test():\n",
    "    print(\"testt\")\n",
    "    \n",
    "test()"
   ]
  },
  {
   "cell_type": "code",
   "execution_count": 15,
   "metadata": {},
   "outputs": [
    {
     "name": "stdout",
     "output_type": "stream",
     "text": [
      "['aaa', 'bbb']\n",
      "['Aaa', 'Bbb']\n",
      "aaa bbb\n"
     ]
    }
   ],
   "source": [
    "func = 'aaa_bbb'\n",
    "a = func.split('_')\n",
    "c = [x.capitalize() for x in a]\n",
    "print(a)\n",
    "print(c)\n",
    "# print(a.capitalize())\n",
    "\n",
    "b = ' '.join(a)\n",
    "print(b)"
   ]
  }
 ],
 "metadata": {
  "kernelspec": {
   "display_name": "Python 3",
   "language": "python",
   "name": "python3"
  },
  "language_info": {
   "codemirror_mode": {
    "name": "ipython",
    "version": 3
   },
   "file_extension": ".py",
   "mimetype": "text/x-python",
   "name": "python",
   "nbconvert_exporter": "python",
   "pygments_lexer": "ipython3",
   "version": "3.7.4"
  }
 },
 "nbformat": 4,
 "nbformat_minor": 2
}
