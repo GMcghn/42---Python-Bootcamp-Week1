{
 "cells": [
  {
   "cell_type": "code",
   "execution_count": 2,
   "metadata": {},
   "outputs": [
    {
     "data": {
      "text/plain": [
       "'C:\\\\Users\\\\Gabriel\\\\Desktop\\\\Mes documents - Google Drive\\\\DATA\\\\19\\\\day02\\\\ex03'"
      ]
     },
     "execution_count": 2,
     "metadata": {},
     "output_type": "execute_result"
    }
   ],
   "source": [
    "pwd"
   ]
  },
  {
   "cell_type": "code",
   "execution_count": 52,
   "metadata": {},
   "outputs": [
    {
     "data": {
      "text/html": [
       "<div>\n",
       "<style scoped>\n",
       "    .dataframe tbody tr th:only-of-type {\n",
       "        vertical-align: middle;\n",
       "    }\n",
       "\n",
       "    .dataframe tbody tr th {\n",
       "        vertical-align: top;\n",
       "    }\n",
       "\n",
       "    .dataframe thead th {\n",
       "        text-align: right;\n",
       "    }\n",
       "</style>\n",
       "<table border=\"1\" class=\"dataframe\">\n",
       "  <thead>\n",
       "    <tr style=\"text-align: right;\">\n",
       "      <th></th>\n",
       "      <th>Name</th>\n",
       "      <th>\"Sex\"</th>\n",
       "      <th>\"Age\"</th>\n",
       "      <th>\"Height (in)\"</th>\n",
       "      <th>\"Weight (lbs)\"</th>\n",
       "    </tr>\n",
       "  </thead>\n",
       "  <tbody>\n",
       "    <tr>\n",
       "      <th>0</th>\n",
       "      <td>Alex</td>\n",
       "      <td>\"M\"</td>\n",
       "      <td>41</td>\n",
       "      <td>74</td>\n",
       "      <td>170</td>\n",
       "    </tr>\n",
       "    <tr>\n",
       "      <th>1</th>\n",
       "      <td>Bert</td>\n",
       "      <td>\"M\"</td>\n",
       "      <td>42</td>\n",
       "      <td>68</td>\n",
       "      <td>166</td>\n",
       "    </tr>\n",
       "    <tr>\n",
       "      <th>2</th>\n",
       "      <td>Carl</td>\n",
       "      <td>\"M\"</td>\n",
       "      <td>32</td>\n",
       "      <td>70</td>\n",
       "      <td>155</td>\n",
       "    </tr>\n",
       "    <tr>\n",
       "      <th>3</th>\n",
       "      <td>Dave</td>\n",
       "      <td>\"M\"</td>\n",
       "      <td>39</td>\n",
       "      <td>72</td>\n",
       "      <td>167</td>\n",
       "    </tr>\n",
       "    <tr>\n",
       "      <th>4</th>\n",
       "      <td>Elly</td>\n",
       "      <td>\"F\"</td>\n",
       "      <td>30</td>\n",
       "      <td>66</td>\n",
       "      <td>124</td>\n",
       "    </tr>\n",
       "    <tr>\n",
       "      <th>5</th>\n",
       "      <td>Fran</td>\n",
       "      <td>\"F\"</td>\n",
       "      <td>33</td>\n",
       "      <td>66</td>\n",
       "      <td>115</td>\n",
       "    </tr>\n",
       "    <tr>\n",
       "      <th>6</th>\n",
       "      <td>Gwen</td>\n",
       "      <td>\"F\"</td>\n",
       "      <td>26</td>\n",
       "      <td>64</td>\n",
       "      <td>121</td>\n",
       "    </tr>\n",
       "    <tr>\n",
       "      <th>7</th>\n",
       "      <td>Hank</td>\n",
       "      <td>\"M\"</td>\n",
       "      <td>30</td>\n",
       "      <td>71</td>\n",
       "      <td>158</td>\n",
       "    </tr>\n",
       "    <tr>\n",
       "      <th>8</th>\n",
       "      <td>Ivan</td>\n",
       "      <td>\"M\"</td>\n",
       "      <td>53</td>\n",
       "      <td>72</td>\n",
       "      <td>175</td>\n",
       "    </tr>\n",
       "    <tr>\n",
       "      <th>9</th>\n",
       "      <td>Jake</td>\n",
       "      <td>\"M\"</td>\n",
       "      <td>32</td>\n",
       "      <td>69</td>\n",
       "      <td>143</td>\n",
       "    </tr>\n",
       "    <tr>\n",
       "      <th>10</th>\n",
       "      <td>Kate</td>\n",
       "      <td>\"F\"</td>\n",
       "      <td>47</td>\n",
       "      <td>69</td>\n",
       "      <td>139</td>\n",
       "    </tr>\n",
       "    <tr>\n",
       "      <th>11</th>\n",
       "      <td>Luke</td>\n",
       "      <td>\"M\"</td>\n",
       "      <td>34</td>\n",
       "      <td>72</td>\n",
       "      <td>163</td>\n",
       "    </tr>\n",
       "    <tr>\n",
       "      <th>12</th>\n",
       "      <td>Myra</td>\n",
       "      <td>\"F\"</td>\n",
       "      <td>23</td>\n",
       "      <td>62</td>\n",
       "      <td>98</td>\n",
       "    </tr>\n",
       "    <tr>\n",
       "      <th>13</th>\n",
       "      <td>Neil</td>\n",
       "      <td>\"M\"</td>\n",
       "      <td>36</td>\n",
       "      <td>75</td>\n",
       "      <td>160</td>\n",
       "    </tr>\n",
       "    <tr>\n",
       "      <th>14</th>\n",
       "      <td>Omar</td>\n",
       "      <td>\"M\"</td>\n",
       "      <td>38</td>\n",
       "      <td>70</td>\n",
       "      <td>145</td>\n",
       "    </tr>\n",
       "    <tr>\n",
       "      <th>15</th>\n",
       "      <td>Page</td>\n",
       "      <td>\"F\"</td>\n",
       "      <td>31</td>\n",
       "      <td>67</td>\n",
       "      <td>135</td>\n",
       "    </tr>\n",
       "    <tr>\n",
       "      <th>16</th>\n",
       "      <td>Quin</td>\n",
       "      <td>\"M\"</td>\n",
       "      <td>29</td>\n",
       "      <td>71</td>\n",
       "      <td>176</td>\n",
       "    </tr>\n",
       "    <tr>\n",
       "      <th>17</th>\n",
       "      <td>Ruth</td>\n",
       "      <td>\"F\"</td>\n",
       "      <td>28</td>\n",
       "      <td>65</td>\n",
       "      <td>131</td>\n",
       "    </tr>\n",
       "  </tbody>\n",
       "</table>\n",
       "</div>"
      ],
      "text/plain": [
       "    Name       \"Sex\"   \"Age\"   \"Height (in)\"   \"Weight (lbs)\"\n",
       "0   Alex         \"M\"      41              74              170\n",
       "1   Bert         \"M\"      42              68              166\n",
       "2   Carl         \"M\"      32              70              155\n",
       "3   Dave         \"M\"      39              72              167\n",
       "4   Elly         \"F\"      30              66              124\n",
       "5   Fran         \"F\"      33              66              115\n",
       "6   Gwen         \"F\"      26              64              121\n",
       "7   Hank         \"M\"      30              71              158\n",
       "8   Ivan         \"M\"      53              72              175\n",
       "9   Jake         \"M\"      32              69              143\n",
       "10  Kate         \"F\"      47              69              139\n",
       "11  Luke         \"M\"      34              72              163\n",
       "12  Myra         \"F\"      23              62               98\n",
       "13  Neil         \"M\"      36              75              160\n",
       "14  Omar         \"M\"      38              70              145\n",
       "15  Page         \"F\"      31              67              135\n",
       "16  Quin         \"M\"      29              71              176\n",
       "17  Ruth         \"F\"      28              65              131"
      ]
     },
     "execution_count": 52,
     "metadata": {},
     "output_type": "execute_result"
    }
   ],
   "source": [
    "import pandas as pd\n",
    "y= 'C:/Users/Gabriel/Desktop/Mes documents - Google Drive/DATA/19/day02/ex03/good.csv'\n",
    "x = pd.read_csv(y)\n",
    "x\n"
   ]
  },
  {
   "cell_type": "code",
   "execution_count": 51,
   "metadata": {},
   "outputs": [
    {
     "ename": "StopIteration",
     "evalue": "",
     "output_type": "error",
     "traceback": [
      "\u001b[1;31m---------------------------------------------------------------------------\u001b[0m",
      "\u001b[1;31mStopIteration\u001b[0m                             Traceback (most recent call last)",
      "\u001b[1;32m<ipython-input-51-38615742a345>\u001b[0m in \u001b[0;36m<module>\u001b[1;34m\u001b[0m\n\u001b[0;32m      2\u001b[0m \u001b[1;32mwith\u001b[0m \u001b[0mopen\u001b[0m\u001b[1;33m(\u001b[0m\u001b[1;34m'good.csv'\u001b[0m\u001b[1;33m)\u001b[0m \u001b[1;32mas\u001b[0m \u001b[0mf\u001b[0m\u001b[1;33m:\u001b[0m\u001b[1;33m\u001b[0m\u001b[1;33m\u001b[0m\u001b[0m\n\u001b[0;32m      3\u001b[0m     \u001b[0mdata\u001b[0m \u001b[1;33m=\u001b[0m \u001b[0mf\u001b[0m\u001b[1;33m.\u001b[0m\u001b[0mread\u001b[0m\u001b[1;33m(\u001b[0m\u001b[1;33m)\u001b[0m\u001b[1;33m\u001b[0m\u001b[1;33m\u001b[0m\u001b[0m\n\u001b[1;32m----> 4\u001b[1;33m     \u001b[0mx\u001b[0m \u001b[1;33m=\u001b[0m \u001b[0mnext\u001b[0m\u001b[1;33m(\u001b[0m\u001b[0mcsv\u001b[0m\u001b[1;33m.\u001b[0m\u001b[0mreader\u001b[0m\u001b[1;33m(\u001b[0m\u001b[0mf\u001b[0m\u001b[1;33m)\u001b[0m\u001b[1;33m)\u001b[0m\u001b[1;33m\u001b[0m\u001b[1;33m\u001b[0m\u001b[0m\n\u001b[0m\u001b[0;32m      5\u001b[0m     \u001b[0mprint\u001b[0m\u001b[1;33m(\u001b[0m\u001b[0mx\u001b[0m\u001b[1;33m)\u001b[0m\u001b[1;33m\u001b[0m\u001b[1;33m\u001b[0m\u001b[0m\n\u001b[0;32m      6\u001b[0m     \u001b[1;31m#print(data)\u001b[0m\u001b[1;33m\u001b[0m\u001b[1;33m\u001b[0m\u001b[1;33m\u001b[0m\u001b[0m\n",
      "\u001b[1;31mStopIteration\u001b[0m: "
     ]
    }
   ],
   "source": [
    "import csv\n",
    "with open('good.csv') as f:\n",
    "    data = f.read()\n",
    "    x = next(csv.reader(f))\n",
    "    print(x)\n",
    "    #print(data)\n",
    "    \n",
    "    \n",
    "#     header = f.readline(10)\n",
    "#     print(header)"
   ]
  },
  {
   "cell_type": "code",
   "execution_count": 53,
   "metadata": {},
   "outputs": [
    {
     "name": "stdout",
     "output_type": "stream",
     "text": [
      "['\"Name\",     \"Sex\", \"Age\", \"Height (in)\", \"Weight (lbs)\"\\n', '\"Alex\",       \"M\",   41,       74,      170\\n', '\"Bert\",       \"M\",   42,       68,      166\\n', '\"Carl\",       \"M\",   32,       70,      155\\n', '\"Dave\",       \"M\",   39,       72,      167\\n', '\"Elly\",       \"F\",   30,       66,      124\\n', '\"Fran\",       \"F\",   33,       66,      115\\n', '\"Gwen\",       \"F\",   26,       64,      121\\n', '\"Hank\",       \"M\",   30,       71,      158\\n', '\"Ivan\",       \"M\",   53,       72,      175\\n', '\"Jake\",       \"M\",   32,       69,      143\\n', '\"Kate\",       \"F\",   47,       69,      139\\n', '\"Luke\",       \"M\",   34,       72,      163\\n', '\"Myra\",       \"F\",   23,       62,       98\\n', '\"Neil\",       \"M\",   36,       75,      160\\n', '\"Omar\",       \"M\",   38,       70,      145\\n', '\"Page\",       \"F\",   31,       67,      135\\n', '\"Quin\",       \"M\",   29,       71,      176\\n', '\"Ruth\",       \"F\",   28,       65,      131\\n']\n"
     ]
    }
   ],
   "source": [
    "f = open(\"good.csv\", \"r\")\n",
    "import pandas as pd\n",
    "y= 'C:/Users/Gabriel/Desktop/Mes documents - Google Drive/DATA/19/day02/ex03/good.csv'\n",
    "x = pd.read_csv(y)\n",
    "xprint(f.readlines())"
   ]
  },
  {
   "cell_type": "code",
   "execution_count": 91,
   "metadata": {},
   "outputs": [
    {
     "name": "stdout",
     "output_type": "stream",
     "text": [
      "['Game Number', ' \"Game Length\"']\n",
      "1002\n",
      "2\n",
      "ERROR : file corrupted (at least one line with too many elements\n",
      "not corrupted\n"
     ]
    }
   ],
   "source": [
    "\n",
    "filename = 'C:/Users/Gabriel/Desktop/Mes documents - Google Drive/DATA/19/day02/ex03/bad.csv'\n",
    "\n",
    "\n",
    "with open(filename) as f:\n",
    "            reader = csv.reader(f)\n",
    "            list_reader = list(reader)\n",
    "            print(list_reader[0])\n",
    "            lines = len(list_reader)\n",
    "            print(lines)\n",
    "\n",
    "            sizex = len(str(list_reader[0]).split(','))\n",
    "            print(sizex)\n",
    "            for x in range(lines):\n",
    "                sizey = len(str(list_reader[x]).split(','))\n",
    "#                 print(sizey)\n",
    "                if sizey > sizex:\n",
    "                    print(\"ERROR : file corrupted (at least one line with too many elements\")\n",
    "                    break\n",
    "            print(\"not corrupted\")"
   ]
  },
  {
   "cell_type": "code",
   "execution_count": 94,
   "metadata": {},
   "outputs": [
    {
     "ename": "NameError",
     "evalue": "name 'ft_progress' is not defined",
     "output_type": "error",
     "traceback": [
      "\u001b[1;31m---------------------------------------------------------------------------\u001b[0m",
      "\u001b[1;31mNameError\u001b[0m                                 Traceback (most recent call last)",
      "\u001b[1;32m<ipython-input-94-81a4561b49b1>\u001b[0m in \u001b[0;36m<module>\u001b[1;34m\u001b[0m\n\u001b[0;32m      1\u001b[0m \u001b[0mlisty\u001b[0m \u001b[1;33m=\u001b[0m \u001b[0mrange\u001b[0m\u001b[1;33m(\u001b[0m\u001b[1;36m1000\u001b[0m\u001b[1;33m)\u001b[0m\u001b[1;33m\u001b[0m\u001b[1;33m\u001b[0m\u001b[0m\n\u001b[0;32m      2\u001b[0m \u001b[0mret\u001b[0m \u001b[1;33m=\u001b[0m \u001b[1;36m0\u001b[0m\u001b[1;33m\u001b[0m\u001b[1;33m\u001b[0m\u001b[0m\n\u001b[1;32m----> 3\u001b[1;33m \u001b[1;32mfor\u001b[0m \u001b[0melem\u001b[0m \u001b[1;32min\u001b[0m \u001b[0mft_progress\u001b[0m\u001b[1;33m(\u001b[0m\u001b[0mlisty\u001b[0m\u001b[1;33m)\u001b[0m\u001b[1;33m:\u001b[0m\u001b[1;33m\u001b[0m\u001b[1;33m\u001b[0m\u001b[0m\n\u001b[0m\u001b[0;32m      4\u001b[0m     \u001b[0mret\u001b[0m \u001b[1;33m+=\u001b[0m \u001b[1;33m(\u001b[0m\u001b[0melem\u001b[0m \u001b[1;33m+\u001b[0m \u001b[1;36m3\u001b[0m\u001b[1;33m)\u001b[0m \u001b[1;33m%\u001b[0m \u001b[1;36m5\u001b[0m\u001b[1;33m\u001b[0m\u001b[1;33m\u001b[0m\u001b[0m\n\u001b[0;32m      5\u001b[0m     \u001b[0msleep\u001b[0m\u001b[1;33m(\u001b[0m\u001b[1;36m0.01\u001b[0m\u001b[1;33m)\u001b[0m\u001b[1;33m\u001b[0m\u001b[1;33m\u001b[0m\u001b[0m\n",
      "\u001b[1;31mNameError\u001b[0m: name 'ft_progress' is not defined"
     ]
    }
   ],
   "source": [
    "listy = range(1000)\n",
    "ret = 0\n",
    "start_time = time.time()\n",
    "for elem in ft_progress(listy):\n",
    "    ret += (elem + 3) % 5\n",
    "    sleep(0.01)\n",
    "print()\n",
    "print(ret)"
   ]
  },
  {
   "cell_type": "code",
   "execution_count": null,
   "metadata": {},
   "outputs": [],
   "source": [
    "a = range(1000)\n",
    "def ft_progress(lst):\n",
    "    pass\n",
    "\n",
    "                "
   ]
  },
  {
   "cell_type": "code",
   "execution_count": 113,
   "metadata": {},
   "outputs": [
    {
     "name": "stdout",
     "output_type": "stream",
     "text": [
      "[====================] 100%"
     ]
    }
   ],
   "source": [
    "import sys\n",
    "import time\n",
    "\n",
    "a = 21\n",
    "for i in range(a):\n",
    "    sys.stdout.write('\\r')\n",
    "    sys.stdout.write(\"[%-20s] %d%%\" % ('='*i, 5*i))\n",
    "    #sys.stdout.flush()\n",
    "    time.sleep(0.25)"
   ]
  },
  {
   "cell_type": "code",
   "execution_count": 130,
   "metadata": {},
   "outputs": [
    {
     "name": "stdout",
     "output_type": "stream",
     "text": [
      "[====================] 100%"
     ]
    }
   ],
   "source": [
    "import sys\n",
    "import time\n",
    "\n",
    "a = 21\n",
    "for i in range(a+1):\n",
    "    sys.stdout.write('\\r')\n",
    "    sys.stdout.write('[{}{}] {}%'.format( (round(i/a*20))*'=', (20-round(i/a*20))*' ', round(i/a*100)) )\n",
    "    #sys.stdout.flush()\n",
    "    time.sleep(0.25)"
   ]
  },
  {
   "cell_type": "code",
   "execution_count": 151,
   "metadata": {},
   "outputs": [
    {
     "name": "stdout",
     "output_type": "stream",
     "text": [
      "[====================] 100%\r"
     ]
    }
   ],
   "source": [
    "import sys\n",
    "import time\n",
    "\n",
    "a = 21\n",
    "for i in range(a+1):\n",
    "    \n",
    "    if i/a == 1: \n",
    "        x='' \n",
    "    else: \n",
    "        x='>'\n",
    "        \n",
    "    print('[{}{}{}] {}%'.format( (round(i/a*20))*'=', x ,(20-round(i/a*20))*' ', round(i/a*100)) , end =\"\\r\")\n",
    "    time.sleep(0.25)"
   ]
  },
  {
   "cell_type": "code",
   "execution_count": 161,
   "metadata": {},
   "outputs": [
    {
     "name": "stdout",
     "output_type": "stream",
     "text": [
      "ETA: 0.0s [ 100%][====================] 21/21 | elapsed time 6.0ss\r"
     ]
    }
   ],
   "source": [
    "import sys\n",
    "import time\n",
    "\n",
    "a = 21\n",
    "ts = time.time()\n",
    "for i in range(1,a+1):\n",
    "    \n",
    "    if i/a == 1: \n",
    "        x='' \n",
    "    else: \n",
    "        x='>'\n",
    "    te = time.time()\n",
    "    elapsed = te - ts\n",
    "    ETA = elapsed/i*a - elapsed\n",
    "    print('ETA: {}s [ {}%][{}{}{}] {}/{} | elapsed time {}s'.format(\n",
    "        round(ETA,2), round(i/a*100), (round(i/a*20))*'=', x ,(20-round(i/a*20))*' ',  i, a , round(elapsed,2)\n",
    "        ), end =\"\\r\")\n",
    "    \n",
    "    time.sleep(0.3)"
   ]
  }
 ],
 "metadata": {
  "kernelspec": {
   "display_name": "Python 3",
   "language": "python",
   "name": "python3"
  },
  "language_info": {
   "codemirror_mode": {
    "name": "ipython",
    "version": 3
   },
   "file_extension": ".py",
   "mimetype": "text/x-python",
   "name": "python",
   "nbconvert_exporter": "python",
   "pygments_lexer": "ipython3",
   "version": "3.7.4"
  }
 },
 "nbformat": 4,
 "nbformat_minor": 2
}
